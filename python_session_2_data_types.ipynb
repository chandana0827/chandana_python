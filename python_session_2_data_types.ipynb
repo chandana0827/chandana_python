{
 "cells": [
  {
   "cell_type": "markdown",
   "id": "b517aa7c-2588-4bec-81f1-e383800d649b",
   "metadata": {},
   "source": [
    "**Data types**\n",
    "- In python we have many data types are there \n",
    "  - integer\n",
    "  - float\n",
    "  - string\n",
    "  - boolen"
   ]
  },
  {
   "cell_type": "markdown",
   "id": "aa96d166-ce50-4eef-912a-8cd047fdb4c4",
   "metadata": {},
   "source": [
    "## integer\n",
    "- it will consider the data type automatically"
   ]
  },
  {
   "cell_type": "code",
   "execution_count": 9,
   "id": "fbae1999-f100-4410-8e65-d5b1761c7eca",
   "metadata": {},
   "outputs": [],
   "source": [
    "number=100\n",
    "#in order to check the type of a variable we will use \n",
    "#in built function calles as type"
   ]
  },
  {
   "cell_type": "code",
   "execution_count": 11,
   "id": "28222b59-f607-4649-bed1-42fd6843a832",
   "metadata": {},
   "outputs": [
    {
     "data": {
      "text/plain": [
       "int"
      ]
     },
     "execution_count": 11,
     "metadata": {},
     "output_type": "execute_result"
    }
   ],
   "source": [
    "type(number)"
   ]
  },
  {
   "cell_type": "code",
   "execution_count": 13,
   "id": "921e6644-8916-4860-864d-624e18e5eee9",
   "metadata": {},
   "outputs": [
    {
     "data": {
      "text/plain": [
       "int"
      ]
     },
     "execution_count": 13,
     "metadata": {},
     "output_type": "execute_result"
    }
   ],
   "source": [
    "type(1000)"
   ]
  },
  {
   "cell_type": "markdown",
   "id": "79516228-8440-4fbf-818c-027ad2938b2d",
   "metadata": {},
   "source": [
    "- in maths we have different types of representations availble\n",
    "      **the following number system are**\n",
    "   - binary\n",
    "   - octa\n",
    "   - decimal\n",
    "   - hexa"
   ]
  },
  {
   "cell_type": "markdown",
   "id": "2c2f0c9f-6156-4a90-aec3-34dbe7645845",
   "metadata": {},
   "source": [
    "## Binary\n",
    " - Binary has bi which indicates two\n",
    " - we have total 0 to 9 digits  to represent any number\n",
    " - from there we will take only first two digits i.e. 0 to 1\n",
    " - example :0b101\n",
    " - wrong representataion meand 0b002 "
   ]
  },
  {
   "cell_type": "code",
   "execution_count": 23,
   "id": "79cb42ec-3955-4d9c-b763-2fc3794383a0",
   "metadata": {},
   "outputs": [
    {
     "data": {
      "text/plain": [
       "9"
      ]
     },
     "execution_count": 23,
     "metadata": {},
     "output_type": "execute_result"
    }
   ],
   "source": [
    "0b1001"
   ]
  },
  {
   "cell_type": "code",
   "execution_count": 25,
   "id": "f6eca4af-939f-483e-846b-94f69da583ff",
   "metadata": {},
   "outputs": [
    {
     "data": {
      "text/plain": [
       "5"
      ]
     },
     "execution_count": 25,
     "metadata": {},
     "output_type": "execute_result"
    }
   ],
   "source": [
    "0b101"
   ]
  },
  {
   "cell_type": "code",
   "execution_count": 27,
   "id": "c5967f8a-f92f-4769-b0e2-45a10d4897c0",
   "metadata": {},
   "outputs": [
    {
     "data": {
      "text/plain": [
       "33"
      ]
     },
     "execution_count": 27,
     "metadata": {},
     "output_type": "execute_result"
    }
   ],
   "source": [
    "0b100001"
   ]
  },
  {
   "cell_type": "markdown",
   "id": "818ef69c-125c-4ae3-96dc-ecbc692c6858",
   "metadata": {},
   "source": [
    "# Digital Logic Design\n",
    "4    2   1   num\n",
    "0    0   0    0\n",
    "0    0   1    1\n",
    "0    1   0    2\n",
    "0    1   1    3\n",
    "1    0   0    4\n",
    "1    0   1    5\n",
    "1    1   0    6\n",
    "1    1   1    7"
   ]
  },
  {
   "cell_type": "markdown",
   "id": "388e336c-e8c4-4ebd-8f08-8b96c2ebc48d",
   "metadata": {},
   "source": [
    "**Octa**\n",
    "- Octa means 8\n",
    "- we have 0 to 9 digits to represent any number :0,1,2,3,4,5,6,7,8,9\n",
    "- from therewe will take only starting 8 digits i.e.0 to 7\n",
    "- example :0o123,0o567,0o10006\n",
    "- wrong representation is:0o786 because 7,6,8\n"
   ]
  },
  {
   "cell_type": "code",
   "execution_count": 5,
   "id": "8d841701-f490-42ef-9bcc-4385a2b182d0",
   "metadata": {},
   "outputs": [
    {
     "ename": "SyntaxError",
     "evalue": "invalid digit '8' in octal literal (3171049937.py, line 1)",
     "output_type": "error",
     "traceback": [
      "\u001b[1;36m  Cell \u001b[1;32mIn[5], line 1\u001b[1;36m\u001b[0m\n\u001b[1;33m    0o786\u001b[0m\n\u001b[1;37m       ^\u001b[0m\n\u001b[1;31mSyntaxError\u001b[0m\u001b[1;31m:\u001b[0m invalid digit '8' in octal literal\n"
     ]
    }
   ],
   "source": [
    "0o786"
   ]
  },
  {
   "cell_type": "code",
   "execution_count": 7,
   "id": "c607e5b5-6300-4bc6-8224-493acdd0ae66",
   "metadata": {},
   "outputs": [
    {
     "data": {
      "text/plain": [
       "83"
      ]
     },
     "execution_count": 7,
     "metadata": {},
     "output_type": "execute_result"
    }
   ],
   "source": [
    "0o123"
   ]
  },
  {
   "cell_type": "code",
   "execution_count": 9,
   "id": "6cb7da4b-751a-41d6-a5ab-104bd753513b",
   "metadata": {},
   "outputs": [
    {
     "data": {
      "text/plain": [
       "302"
      ]
     },
     "execution_count": 9,
     "metadata": {},
     "output_type": "execute_result"
    }
   ],
   "source": [
    "0o456"
   ]
  },
  {
   "cell_type": "code",
   "execution_count": 11,
   "id": "b25aa657-fdc9-4fa5-bff5-a45ed807f91a",
   "metadata": {},
   "outputs": [
    {
     "data": {
      "text/plain": [
       "229"
      ]
     },
     "execution_count": 11,
     "metadata": {},
     "output_type": "execute_result"
    }
   ],
   "source": [
    "0O345"
   ]
  },
  {
   "cell_type": "markdown",
   "id": "66dbc54f-c7c3-4704-8f42-971beb94469b",
   "metadata": {},
   "source": [
    "**Hexa**\n",
    "- Hexa means 16\r",
    "- Wee have 0 to99 digits to represent any number :0,1,2,3,4,5,6,7,89 9- After 9 we will use A to F A:10,B:11,C:12,D:13,E:14,F:15  - E\r\n",
    "examplOx123,Oxabc,Ox9ad 0- W6\r\n",
    "wrong representationOxFGH 6,8\n"
   ]
  },
  {
   "cell_type": "code",
   "execution_count": 21,
   "id": "21c47885-c1c9-4683-96da-d2f40e830383",
   "metadata": {},
   "outputs": [
    {
     "data": {
      "text/plain": [
       "2898"
      ]
     },
     "execution_count": 21,
     "metadata": {},
     "output_type": "execute_result"
    }
   ],
   "source": [
    "0Xb52"
   ]
  },
  {
   "cell_type": "markdown",
   "id": "a3fe2622-0972-419d-9f58-2162608c43dc",
   "metadata": {},
   "source": [
    "**float**"
   ]
  },
  {
   "cell_type": "code",
   "execution_count": 26,
   "id": "ae97b598-ab85-48dd-8422-80890f398ff9",
   "metadata": {},
   "outputs": [
    {
     "data": {
      "text/plain": [
       "float"
      ]
     },
     "execution_count": 26,
     "metadata": {},
     "output_type": "execute_result"
    }
   ],
   "source": [
    "num=10.5\n",
    "type(num)"
   ]
  },
  {
   "cell_type": "code",
   "execution_count": 28,
   "id": "c25ab97e-7f87-4b7a-8190-cb1db736792f",
   "metadata": {},
   "outputs": [
    {
     "data": {
      "text/plain": [
       "int"
      ]
     },
     "execution_count": 28,
     "metadata": {},
     "output_type": "execute_result"
    }
   ],
   "source": [
    "type(10)"
   ]
  },
  {
   "cell_type": "code",
   "execution_count": 30,
   "id": "244140bf-e3a3-45a5-889e-32d187d6fa3b",
   "metadata": {},
   "outputs": [
    {
     "data": {
      "text/plain": [
       "float"
      ]
     },
     "execution_count": 30,
     "metadata": {},
     "output_type": "execute_result"
    }
   ],
   "source": [
    "type(10.5)"
   ]
  },
  {
   "cell_type": "code",
   "execution_count": 32,
   "id": "e574dee6-1198-4b20-be4b-93703b5c6e1a",
   "metadata": {},
   "outputs": [
    {
     "data": {
      "text/plain": [
       "100000.0"
      ]
     },
     "execution_count": 32,
     "metadata": {},
     "output_type": "execute_result"
    }
   ],
   "source": [
    "10e1  #10* <10> = 100\n",
    "10e2  #10*<100> =1000\n",
    "10e4  #10*<10000>=100000"
   ]
  },
  {
   "cell_type": "code",
   "execution_count": 34,
   "id": "f238158d-f994-4847-81f5-f6ba965b940e",
   "metadata": {},
   "outputs": [
    {
     "name": "stdout",
     "output_type": "stream",
     "text": [
      "10\n",
      "20\n"
     ]
    }
   ],
   "source": [
    "print(10)\n",
    "print(20)\n",
    "# if you want to see all the answer apply print "
   ]
  },
  {
   "cell_type": "code",
   "execution_count": 36,
   "id": "009c1f43-cdb6-4a46-9fb3-2e5bdf20e2b4",
   "metadata": {},
   "outputs": [
    {
     "data": {
      "text/plain": [
       "20"
      ]
     },
     "execution_count": 36,
     "metadata": {},
     "output_type": "execute_result"
    }
   ],
   "source": [
    "10\n",
    "20\n",
    "# in juputer note book by default last value will print "
   ]
  },
  {
   "cell_type": "code",
   "execution_count": 38,
   "id": "c3843a13-6cd0-4f42-83c3-4b584a2a7de2",
   "metadata": {},
   "outputs": [
    {
     "data": {
      "text/plain": [
       "(10, 20)"
      ]
     },
     "execution_count": 38,
     "metadata": {},
     "output_type": "execute_result"
    }
   ],
   "source": [
    "10,20"
   ]
  },
  {
   "cell_type": "code",
   "execution_count": 44,
   "id": "186f059e-53ed-485e-8023-9c1e8fd9e434",
   "metadata": {},
   "outputs": [
    {
     "name": "stdout",
     "output_type": "stream",
     "text": [
      "100.0\n",
      "1000.0\n",
      "10000.0\n",
      "100000.0\n"
     ]
    }
   ],
   "source": [
    "print(10e1)\n",
    "print(10e2)\n",
    "print(10e3)\n",
    "print(10e4)"
   ]
  },
  {
   "cell_type": "code",
   "execution_count": 46,
   "id": "e62caf38-e9da-4cf3-841d-8bc6546182a0",
   "metadata": {},
   "outputs": [
    {
     "data": {
      "text/plain": [
       "10000.0"
      ]
     },
     "execution_count": 46,
     "metadata": {},
     "output_type": "execute_result"
    }
   ],
   "source": [
    "10e+1\n",
    "10e+2\n",
    "10e+3"
   ]
  },
  {
   "cell_type": "code",
   "execution_count": 48,
   "id": "2d582509-930f-4ee8-9a55-e89fafaf872e",
   "metadata": {},
   "outputs": [
    {
     "data": {
      "text/plain": [
       "1000.0"
      ]
     },
     "execution_count": 48,
     "metadata": {},
     "output_type": "execute_result"
    }
   ],
   "source": [
    "10E2"
   ]
  },
  {
   "cell_type": "code",
   "execution_count": 52,
   "id": "d9aa1c0d-c02a-476b-b25e-25c88969c9dc",
   "metadata": {},
   "outputs": [
    {
     "data": {
      "text/plain": [
       "0.001"
      ]
     },
     "execution_count": 52,
     "metadata": {},
     "output_type": "execute_result"
    }
   ],
   "source": [
    "10e-1 #10/<10> = 1\n",
    "10e-2 #10/<100> =0.1\n",
    "10e-3 #10/<1000>=0.01\n",
    "10e-4 #10/<10000>=0.001"
   ]
  },
  {
   "cell_type": "code",
   "execution_count": 56,
   "id": "6a24cff1-aded-4ead-a564-8ef70d8fb84e",
   "metadata": {},
   "outputs": [
    {
     "name": "stdout",
     "output_type": "stream",
     "text": [
      "1.0\n",
      "0.1\n",
      "0.01\n",
      "0.001\n"
     ]
    }
   ],
   "source": [
    "print(10e-1)\n",
    "print(10e-2)\n",
    "print(10e-3)\n",
    "print(10e-4)"
   ]
  },
  {
   "cell_type": "markdown",
   "id": "c6cfb07a-4b63-4ba3-9383-f7ced9a03040",
   "metadata": {},
   "source": [
    "- in the machine learning we often see the values in exponenal form\n",
    "- in some  cases we need to search for zero values\n",
    "- in ML with python "
   ]
  },
  {
   "cell_type": "markdown",
   "id": "756f9206-e5d3-4afc-9c13-4175848d4cb6",
   "metadata": {},
   "source": [
    "**String**"
   ]
  },
  {
   "cell_type": "markdown",
   "id": "30a00cad-b9df-4a5f-8185-8278c3d89469",
   "metadata": {},
   "source": [
    "- string represents english charactersticts generaly \n",
    "- string will represent with qoutes \n",
    "       - single qoutes\n",
    "       - double qoutes\n",
    "       - triple qoutes\n"
   ]
  },
  {
   "cell_type": "code",
   "execution_count": 65,
   "id": "bb9e8231-a86c-4140-9c6c-dcf89cea0d1e",
   "metadata": {},
   "outputs": [
    {
     "data": {
      "text/plain": [
       "'python'"
      ]
     },
     "execution_count": 65,
     "metadata": {},
     "output_type": "execute_result"
    }
   ],
   "source": [
    "str1='python'\n",
    "str1"
   ]
  },
  {
   "cell_type": "code",
   "execution_count": 67,
   "id": "61f07147-712a-4198-af16-976aa724ca78",
   "metadata": {},
   "outputs": [
    {
     "data": {
      "text/plain": [
       "str"
      ]
     },
     "execution_count": 67,
     "metadata": {},
     "output_type": "execute_result"
    }
   ],
   "source": [
    "type(str1)"
   ]
  },
  {
   "cell_type": "code",
   "execution_count": 69,
   "id": "cadf8650-93b8-4696-b05d-3c7c7c842fa9",
   "metadata": {},
   "outputs": [
    {
     "data": {
      "text/plain": [
       "'python'"
      ]
     },
     "execution_count": 69,
     "metadata": {},
     "output_type": "execute_result"
    }
   ],
   "source": [
    "str1=\"python\"\n",
    "str1"
   ]
  },
  {
   "cell_type": "markdown",
   "id": "9a1674dd-843a-4e6d-8a35-dd27ff94b8e5",
   "metadata": {},
   "source": [
    "- we can represent in any way but pytho will give in single qoutes"
   ]
  },
  {
   "cell_type": "code",
   "execution_count": 75,
   "id": "aced7551-004a-42ae-87b6-19b81297f746",
   "metadata": {},
   "outputs": [
    {
     "name": "stdout",
     "output_type": "stream",
     "text": [
      "python\n"
     ]
    },
    {
     "data": {
      "text/plain": [
       "<function print(*args, sep=' ', end='\\n', file=None, flush=False)>"
      ]
     },
     "execution_count": 75,
     "metadata": {},
     "output_type": "execute_result"
    }
   ],
   "source": [
    "print(str1)\n",
    "print"
   ]
  },
  {
   "cell_type": "code",
   "execution_count": 77,
   "id": "1f94997f-835d-4f1b-88c7-8065329ed07f",
   "metadata": {},
   "outputs": [
    {
     "data": {
      "text/plain": [
       "str"
      ]
     },
     "execution_count": 77,
     "metadata": {},
     "output_type": "execute_result"
    }
   ],
   "source": [
    "str3='abc123'\n",
    "type(str3)"
   ]
  },
  {
   "cell_type": "code",
   "execution_count": 79,
   "id": "7256c6d8-068e-4b1a-aff0-9bbd1f2dd59b",
   "metadata": {},
   "outputs": [
    {
     "name": "stdout",
     "output_type": "stream",
     "text": [
      "abc123\n"
     ]
    }
   ],
   "source": [
    "str2='abc123'\n",
    "print(str2)"
   ]
  },
  {
   "cell_type": "code",
   "execution_count": 81,
   "id": "95b28c14-5006-4283-8274-17b0b34f3104",
   "metadata": {},
   "outputs": [
    {
     "data": {
      "text/plain": [
       "(str, str, str, str)"
      ]
     },
     "execution_count": 81,
     "metadata": {},
     "output_type": "execute_result"
    }
   ],
   "source": [
    "type('10'),type('20'),type('20.5'),type('apple')"
   ]
  },
  {
   "cell_type": "markdown",
   "id": "ec0beb41-884a-4081-8f44-21f825f27e43",
   "metadata": {},
   "source": [
    "- any data type or any value is provided by qoutes means\n",
    "- it becomes a string only\n",
    "- string always in red colour\n",
    "- variables always in red colour\n",
    "- keyword or numbers always in green colour"
   ]
  },
  {
   "cell_type": "code",
   "execution_count": 84,
   "id": "4f3976d9-080a-4ec1-9a7b-06fc46381c6e",
   "metadata": {},
   "outputs": [],
   "source": [
    "vicky='vicky'\n",
    "# 'vicky' is english type where letters are stored in variable name cqalled vicky "
   ]
  },
  {
   "cell_type": "code",
   "execution_count": 94,
   "id": "5aef599b-0be6-45c0-a03b-980c3d816d47",
   "metadata": {},
   "outputs": [
    {
     "name": "stdout",
     "output_type": "stream",
     "text": [
      "i like 'Python'\n"
     ]
    }
   ],
   "source": [
    " str1= \"i like 'Python'\"\n",
    "print(str1)"
   ]
  },
  {
   "cell_type": "code",
   "execution_count": 98,
   "id": "f00bd7a2-1933-42e4-a3da-2342a896bbbf",
   "metadata": {},
   "outputs": [
    {
     "name": "stdout",
     "output_type": "stream",
     "text": [
      "i like \"python\"\n"
     ]
    }
   ],
   "source": [
    "str1='i like \"python\"'\n",
    "print(str1)"
   ]
  },
  {
   "cell_type": "markdown",
   "id": "81878a1c-f912-42b7-bce0-1497e9f3c056",
   "metadata": {},
   "source": [
    "- if u want to highlight any word represent entire string in single qoutes the highlited word in double qoute  vice versa "
   ]
  },
  {
   "cell_type": "markdown",
   "id": "4642e2fd-930d-4b30-b722-2110b949ef74",
   "metadata": {},
   "source": [
    "hai\n",
    "how are u"
   ]
  },
  {
   "cell_type": "code",
   "execution_count": 110,
   "id": "55690d37-31dd-4bd5-b2fb-e6e81e86e99f",
   "metadata": {},
   "outputs": [
    {
     "ename": "SyntaxError",
     "evalue": "unterminated string literal (detected at line 1) (680361160.py, line 1)",
     "output_type": "error",
     "traceback": [
      "\u001b[1;36m  Cell \u001b[1;32mIn[110], line 1\u001b[1;36m\u001b[0m\n\u001b[1;33m    str1='hai\u001b[0m\n\u001b[1;37m         ^\u001b[0m\n\u001b[1;31mSyntaxError\u001b[0m\u001b[1;31m:\u001b[0m unterminated string literal (detected at line 1)\n"
     ]
    }
   ],
   "source": [
    "str1='hai\n",
    "    how are u\n",
    "    i am good'"
   ]
  },
  {
   "cell_type": "code",
   "execution_count": 108,
   "id": "5a8e6ce5-c31e-488a-b735-5f0cb7b15c10",
   "metadata": {},
   "outputs": [
    {
     "ename": "SyntaxError",
     "evalue": "unterminated string literal (detected at line 1) (7920327.py, line 1)",
     "output_type": "error",
     "traceback": [
      "\u001b[1;36m  Cell \u001b[1;32mIn[108], line 1\u001b[1;36m\u001b[0m\n\u001b[1;33m    str1=\"hai\u001b[0m\n\u001b[1;37m         ^\u001b[0m\n\u001b[1;31mSyntaxError\u001b[0m\u001b[1;31m:\u001b[0m unterminated string literal (detected at line 1)\n"
     ]
    }
   ],
   "source": [
    "str1=\"hai \n",
    "      how are u\n",
    "    i am good\""
   ]
  },
  {
   "cell_type": "code",
   "execution_count": 114,
   "id": "1b8b07a3-81bb-4f2c-8474-a8ede177b3b2",
   "metadata": {},
   "outputs": [
    {
     "data": {
      "text/plain": [
       "'hai\\n         how are u\\n         i am good'"
      ]
     },
     "execution_count": 114,
     "metadata": {},
     "output_type": "execute_result"
    }
   ],
   "source": [
    "str1=\"\"\"hai\n",
    "         how are u\n",
    "         i am good\"\"\"\n",
    "str1"
   ]
  },
  {
   "cell_type": "code",
   "execution_count": 116,
   "id": "0dae97af-2d02-4ff7-aab4-0e14d7702ef7",
   "metadata": {},
   "outputs": [
    {
     "name": "stdout",
     "output_type": "stream",
     "text": [
      "hai\n",
      "         how are u\n",
      "         i am good\n"
     ]
    }
   ],
   "source": [
    "print(str1)"
   ]
  },
  {
   "cell_type": "markdown",
   "id": "08f91e23-ff14-4976-b125-25794e161bad",
   "metadata": {},
   "source": [
    "- triple qoutes is used for write a multiline comments\n",
    "- this is called as **Docstring**\n",
    "- in order to write a story in juputer notebook we have a markdown \n",
    "- but other platforms like VScode ,PYcharm we dont have a markdown\n",
    "- then how can we write a story :by using triple qoutes\n",
    "- if any person writing some thing using triple qoutes ,which indicates "
   ]
  },
  {
   "cell_type": "markdown",
   "id": "49cae20a-09dc-44c0-8c14-fb88b5d20d69",
   "metadata": {},
   "source": [
    "**Boolean**"
   ]
  },
  {
   "cell_type": "markdown",
   "id": "b7b29b46-52f9-435f-a515-6bef4b0d12d3",
   "metadata": {},
   "source": [
    "- computer takes the values in binary format(1,0)\n",
    "- computer gives the answer in boolen format  \n",
    "        - true  \n",
    "        - false\n",
    "- true indicates 1\n",
    "- false indicates 0"
   ]
  },
  {
   "cell_type": "code",
   "execution_count": 127,
   "id": "ed84b523-7992-443f-acf2-45a04996d61d",
   "metadata": {},
   "outputs": [
    {
     "data": {
      "text/plain": [
       "bool"
      ]
     },
     "execution_count": 127,
     "metadata": {},
     "output_type": "execute_result"
    }
   ],
   "source": [
    "val=True \n",
    "type(val)"
   ]
  },
  {
   "cell_type": "code",
   "execution_count": 129,
   "id": "bfe309b4-b1d9-4653-9373-1a5b690550f0",
   "metadata": {},
   "outputs": [
    {
     "data": {
      "text/plain": [
       "bool"
      ]
     },
     "execution_count": 129,
     "metadata": {},
     "output_type": "execute_result"
    }
   ],
   "source": [
    "val1=False\n",
    "type(val1)"
   ]
  },
  {
   "cell_type": "code",
   "execution_count": 131,
   "id": "8fc1d6fa-4523-4306-9690-a477b2c14e9e",
   "metadata": {},
   "outputs": [
    {
     "data": {
      "text/plain": [
       "('True', True)"
      ]
     },
     "execution_count": 131,
     "metadata": {},
     "output_type": "execute_result"
    }
   ],
   "source": [
    "true='True'\n",
    "TRUE=True\n",
    "true,TRUE # two are variables \n"
   ]
  },
  {
   "cell_type": "code",
   "execution_count": 133,
   "id": "9b891ea2-0c21-4d7c-9271-7cb29c63b827",
   "metadata": {},
   "outputs": [
    {
     "data": {
      "text/plain": [
       "(str, bool)"
      ]
     },
     "execution_count": 133,
     "metadata": {},
     "output_type": "execute_result"
    }
   ],
   "source": [
    "type(true),type(TRUE)"
   ]
  },
  {
   "cell_type": "code",
   "execution_count": 139,
   "id": "b65bf50c-900c-4246-9f7b-b9fc81dcf073",
   "metadata": {},
   "outputs": [
    {
     "data": {
      "text/plain": [
       "(int, float, str, bool)"
      ]
     },
     "execution_count": 139,
     "metadata": {},
     "output_type": "execute_result"
    }
   ],
   "source": [
    "a=10\n",
    "b=10.5\n",
    "c='10'\n",
    "d=True\n",
    "type(a),type(b),type(c),type(d)"
   ]
  },
  {
   "cell_type": "code",
   "execution_count": null,
   "id": "bcdf9af9-ca26-4d61-8036-b059f103780f",
   "metadata": {},
   "outputs": [],
   "source": []
  }
 ],
 "metadata": {
  "kernelspec": {
   "display_name": "Python 3 (ipykernel)",
   "language": "python",
   "name": "python3"
  },
  "language_info": {
   "codemirror_mode": {
    "name": "ipython",
    "version": 3
   },
   "file_extension": ".py",
   "mimetype": "text/x-python",
   "name": "python",
   "nbconvert_exporter": "python",
   "pygments_lexer": "ipython3",
   "version": "3.12.4"
  }
 },
 "nbformat": 4,
 "nbformat_minor": 5
}
