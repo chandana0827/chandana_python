{
 "cells": [
  {
   "cell_type": "markdown",
   "id": "d65bcf91-fc5b-47c2-817c-456a0625be68",
   "metadata": {},
   "source": [
    "**variables**"
   ]
  },
  {
   "cell_type": "markdown",
   "id": "ee4a6c60-a5c6-47f8-8586-9e920b8a6e96",
   "metadata": {},
   "source": [
    "- variables are used to stored the values and change the values\n",
    "- varryy means varrying "
   ]
  },
  {
   "cell_type": "code",
   "execution_count": 5,
   "id": "2838b684-888c-4a58-83ee-14ef6222309d",
   "metadata": {},
   "outputs": [
    {
     "data": {
      "text/plain": [
       "100"
      ]
     },
     "execution_count": 5,
     "metadata": {},
     "output_type": "execute_result"
    }
   ],
   "source": [
    "number=100\n",
    "number"
   ]
  },
  {
   "cell_type": "code",
   "execution_count": 7,
   "id": "2e411052-7202-4232-8548-0bff5f656ca8",
   "metadata": {},
   "outputs": [
    {
     "data": {
      "text/plain": [
       "200"
      ]
     },
     "execution_count": 7,
     "metadata": {},
     "output_type": "execute_result"
    }
   ],
   "source": [
    "number=200\n",
    "number"
   ]
  },
  {
   "cell_type": "code",
   "execution_count": 9,
   "id": "80c4e766-178c-4bc5-9dc6-8f19d581b678",
   "metadata": {},
   "outputs": [],
   "source": [
    "chandu=600\n",
    "#600 is value stored in a variable chandu"
   ]
  },
  {
   "cell_type": "code",
   "execution_count": 11,
   "id": "9bf49660-80b6-4822-94da-5e696f737a46",
   "metadata": {},
   "outputs": [
    {
     "data": {
      "text/plain": [
       "60000"
      ]
     },
     "execution_count": 11,
     "metadata": {},
     "output_type": "execute_result"
    }
   ],
   "source": [
    "chandu=60000\n",
    "chandu"
   ]
  },
  {
   "cell_type": "code",
   "execution_count": 14,
   "id": "e0dab819-5894-4d96-b0df-d074e0b55e5b",
   "metadata": {},
   "outputs": [],
   "source": [
    "# type c\n",
    "# and entre tab button  to get names"
   ]
  },
  {
   "cell_type": "code",
   "execution_count": 16,
   "id": "f3f3f34c-cf02-44a4-a946-7f7edcef789f",
   "metadata": {},
   "outputs": [
    {
     "data": {
      "text/plain": [
       "200"
      ]
     },
     "execution_count": 16,
     "metadata": {},
     "output_type": "execute_result"
    }
   ],
   "source": [
    "NUMBER=200\n",
    "NUMBER"
   ]
  },
  {
   "cell_type": "code",
   "execution_count": 18,
   "id": "6a4cd6b4-dc18-40d6-943c-e0d22ced2ac1",
   "metadata": {},
   "outputs": [
    {
     "data": {
      "text/plain": [
       "400"
      ]
     },
     "execution_count": 18,
     "metadata": {},
     "output_type": "execute_result"
    }
   ],
   "source": [
    "NUMber=400\n",
    "NUMber"
   ]
  },
  {
   "cell_type": "code",
   "execution_count": 22,
   "id": "865a35df-658f-41bb-a60f-0da48097521e",
   "metadata": {},
   "outputs": [
    {
     "ename": "SyntaxError",
     "evalue": "invalid decimal literal (1737628933.py, line 1)",
     "output_type": "error",
     "traceback": [
      "\u001b[1;36m  Cell \u001b[1;32mIn[22], line 1\u001b[1;36m\u001b[0m\n\u001b[1;33m    123number=500\u001b[0m\n\u001b[1;37m      ^\u001b[0m\n\u001b[1;31mSyntaxError\u001b[0m\u001b[1;31m:\u001b[0m invalid decimal literal\n"
     ]
    }
   ],
   "source": [
    "123number=500\n",
    "123number\n",
    "#variables does not have prefixs\n",
    "#variables should not start with numbers"
   ]
  },
  {
   "cell_type": "code",
   "execution_count": 24,
   "id": "978c3a04-2cde-41b0-a94c-7ab8bcfaafac",
   "metadata": {},
   "outputs": [
    {
     "ename": "SyntaxError",
     "evalue": "cannot assign to expression here. Maybe you meant '==' instead of '='? (3864411207.py, line 1)",
     "output_type": "error",
     "traceback": [
      "\u001b[1;36m  Cell \u001b[1;32mIn[24], line 1\u001b[1;36m\u001b[0m\n\u001b[1;33m    number*one=500\u001b[0m\n\u001b[1;37m    ^\u001b[0m\n\u001b[1;31mSyntaxError\u001b[0m\u001b[1;31m:\u001b[0m cannot assign to expression here. Maybe you meant '==' instead of '='?\n"
     ]
    }
   ],
   "source": [
    "number*one=500\n",
    "number*one\n",
    "#variables does not have spl character"
   ]
  },
  {
   "cell_type": "code",
   "execution_count": 28,
   "id": "c66541f6-531a-4562-a251-3376a8a47f42",
   "metadata": {},
   "outputs": [
    {
     "data": {
      "text/plain": [
       "600"
      ]
     },
     "execution_count": 28,
     "metadata": {},
     "output_type": "execute_result"
    }
   ],
   "source": [
    "number_one=600\n",
    "number_one\n",
    "#only underscore can represent as variables"
   ]
  },
  {
   "cell_type": "markdown",
   "id": "fc6fe971-385d-4dc2-8036-ec4c04eee774",
   "metadata": {},
   "source": [
    "- variables are case senstivie\n",
    "- varibles can represent as captial letters\n",
    "- variables can represnt as small lasts \n",
    "- variables can have both combination\n",
    "- python will condiser the latest values\n",
    "- variables does not contain any spl character, ecpect underscore\n",
    "- variables have number at last\n",
    "- variable does not contain any space between the letters:number one\n",
    "- only underscore can be used as variables\n",
    "- keywords and "
   ]
  },
  {
   "cell_type": "code",
   "execution_count": null,
   "id": "02010f0a-a2a2-4006-b085-d66fd043d1cb",
   "metadata": {},
   "outputs": [],
   "source": []
  }
 ],
 "metadata": {
  "kernelspec": {
   "display_name": "Python 3 (ipykernel)",
   "language": "python",
   "name": "python3"
  },
  "language_info": {
   "codemirror_mode": {
    "name": "ipython",
    "version": 3
   },
   "file_extension": ".py",
   "mimetype": "text/x-python",
   "name": "python",
   "nbconvert_exporter": "python",
   "pygments_lexer": "ipython3",
   "version": "3.12.4"
  }
 },
 "nbformat": 4,
 "nbformat_minor": 5
}
