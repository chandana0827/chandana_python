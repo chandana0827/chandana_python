{
 "cells": [
  {
   "cell_type": "markdown",
   "id": "7d0ca8ef-c89f-4438-965a-a375002ace01",
   "metadata": {},
   "source": [
    "**Print statments**"
   ]
  },
  {
   "cell_type": "markdown",
   "id": "209f2b43-2a65-42d5-8c72-3f2c85e4a173",
   "metadata": {},
   "source": [
    "- print is a inbuilt function, to see the answers\n",
    "- in jupyter notebook we can see lastest value with out using print\n",
    "- if u want to see all the values we need to use print\n",
    "- in VS code ,Pycharm there is no markdown options\n",
    "- if you want to see any answer, we need to use print statement "
   ]
  },
  {
   "cell_type": "code",
   "execution_count": 15,
   "id": "f3fb9493-9482-473d-a31c-93efc4265d06",
   "metadata": {},
   "outputs": [
    {
     "data": {
      "text/plain": [
       "200"
      ]
     },
     "execution_count": 15,
     "metadata": {},
     "output_type": "execute_result"
    }
   ],
   "source": [
    "num1=100\n",
    "num2=200\n",
    "num1\n",
    "num2"
   ]
  },
  {
   "cell_type": "code",
   "execution_count": 5,
   "id": "519572a3-d563-49c8-b708-e05e3661a3f6",
   "metadata": {},
   "outputs": [
    {
     "name": "stdout",
     "output_type": "stream",
     "text": [
      "100\n"
     ]
    }
   ],
   "source": [
    "print(num1)"
   ]
  },
  {
   "cell_type": "code",
   "execution_count": 17,
   "id": "9f967835-bae4-41db-b822-d09321cc9081",
   "metadata": {},
   "outputs": [
    {
     "name": "stdout",
     "output_type": "stream",
     "text": [
      "100\n",
      "200\n"
     ]
    }
   ],
   "source": [
    "print(num1)\n",
    "print(num2)"
   ]
  },
  {
   "cell_type": "code",
   "execution_count": 19,
   "id": "93d1539c-cff3-47eb-993b-f1199bd96e7f",
   "metadata": {},
   "outputs": [
    {
     "name": "stdout",
     "output_type": "stream",
     "text": [
      "300\n"
     ]
    }
   ],
   "source": [
    "print(num1+num2)"
   ]
  },
  {
   "cell_type": "code",
   "execution_count": 21,
   "id": "58b4ea72-1d97-4283-92b0-6c8f11e45e8b",
   "metadata": {},
   "outputs": [
    {
     "name": "stdout",
     "output_type": "stream",
     "text": [
      "100 200\n"
     ]
    }
   ],
   "source": [
    "print(num1,num2)"
   ]
  },
  {
   "cell_type": "code",
   "execution_count": 25,
   "id": "0d0c1190-8cb1-4d0e-a331-377481396eb6",
   "metadata": {},
   "outputs": [
    {
     "name": "stdout",
     "output_type": "stream",
     "text": [
      "hello\n"
     ]
    }
   ],
   "source": [
    "print('hello')"
   ]
  },
  {
   "cell_type": "code",
   "execution_count": 27,
   "id": "65fe0221-6603-4402-a60e-63c810c24c9c",
   "metadata": {},
   "outputs": [
    {
     "name": "stdout",
     "output_type": "stream",
     "text": [
      "hello bye 100 200 10 20\n"
     ]
    }
   ],
   "source": [
    "print('hello','bye',num1,num2,10,20)"
   ]
  },
  {
   "cell_type": "code",
   "execution_count": 35,
   "id": "2f6f6a28-c028-4595-893a-32d2ba6baaa7",
   "metadata": {},
   "outputs": [
    {
     "name": "stdout",
     "output_type": "stream",
     "text": [
      " the addiction of 10 and 20 is 30\n",
      "the addition of 10\n",
      "the addiction of 10 and 20 is 30\n"
     ]
    }
   ],
   "source": [
    "a=10\n",
    "b=20\n",
    "c=30\n",
    "a+b\n",
    "# the addition of 10 and 20 is 30\n",
    "print(\" the addiction of 10 and 20 is 30\")\n",
    "print(\"the addition of\",a)\n",
    "print(\"the addiction of\",a,'and',b,'is',c)"
   ]
  },
  {
   "cell_type": "code",
   "execution_count": 37,
   "id": "827dbb4c-9e06-4967-a1fc-1f5bbb7695a8",
   "metadata": {},
   "outputs": [
    {
     "name": "stdout",
     "output_type": "stream",
     "text": [
      "the addiction of 100 and 200 is 300\n"
     ]
    }
   ],
   "source": [
    "a=100\n",
    "b=200\n",
    "c=300\n",
    "print(\"the addiction of\",a,'and',b,'is',c)"
   ]
  },
  {
   "cell_type": "code",
   "execution_count": 39,
   "id": "11ac0813-e73c-4208-b5ed-1cde68b80216",
   "metadata": {},
   "outputs": [
    {
     "name": "stdout",
     "output_type": "stream",
     "text": [
      "my name is chandu Im 21 year old and i came from addanki\n"
     ]
    }
   ],
   "source": [
    "name='chandu'\n",
    "age='21'\n",
    "city='addanki'\n",
    "print(\"my name is chandu, Im 10n years old and i came from hyd\")\n",
    "print(\"my name is\", name,\"Im\",age,\"year old and i came from\",city)"
   ]
  },
  {
   "cell_type": "markdown",
   "id": "3b26bbcd-c496-4d27-a390-cba548f1a4a4",
   "metadata": {},
   "source": [
    "**Format method**"
   ]
  },
  {
   "cell_type": "code",
   "execution_count": 46,
   "id": "0c66b6e5-6791-48be-ad31-9e9b57273a89",
   "metadata": {},
   "outputs": [
    {
     "name": "stdout",
     "output_type": "stream",
     "text": [
      "the addiction of 10,20 is 30\n",
      "the addition of {},{} is {}\n",
      "the addition of 10,20 is 30\n"
     ]
    }
   ],
   "source": [
    "a=10\n",
    "b=20\n",
    "c=a+b\n",
    "# how you want to write the print \n",
    "# the addition of 10,20 is 30\n",
    "print(\"the addiction of 10,20 is 30\")\n",
    "print(\"the addition of {},{} is {}\")\n",
    "print(\"the addition of {},{} is {}\".format(a,b,c))"
   ]
  },
  {
   "cell_type": "code",
   "execution_count": 52,
   "id": "0f2394de-b0d7-4f33-93c4-d49ffb15532f",
   "metadata": {},
   "outputs": [
    {
     "name": "stdout",
     "output_type": "stream",
     "text": [
      "my name is chandu,im 21 years old and i came from addanki\n"
     ]
    }
   ],
   "source": [
    "name='chandu'\n",
    "age=21\n",
    "city='addanki'\n",
    "print(\"my name is {},im {} years old and i came from {}\".format(name,age,city))"
   ]
  },
  {
   "cell_type": "code",
   "execution_count": 60,
   "id": "10efd82e-3a9e-4959-ace3-b90f94d27816",
   "metadata": {},
   "outputs": [
    {
     "name": "stdout",
     "output_type": "stream",
     "text": [
      "the addition of 10 ,20 is 30\n",
      "the multiplication of 10,20 is200\n",
      "the division of 10 ,20 is10\n",
      "the sub of10,20 is-10\n"
     ]
    }
   ],
   "source": [
    "a=10\n",
    "b=20\n",
    "c=a+b\n",
    "print(\"the addition of {} ,{} is {}\".format(a,b,c))\n",
    "c=a*b\n",
    "print(\"the multiplication of {},{} is{}\".format(a,b,c))\n",
    "c=a%b\n",
    "print(\"the division of {} ,{} is{}\".format(a,b,c))\n",
    "c=a-b\n",
    "print(\"the sub of{},{} is{}\".format(a,b,c)) "
   ]
  },
  {
   "cell_type": "markdown",
   "id": "8cf03814-09f8-44fa-b80b-80f90c0f7950",
   "metadata": {},
   "source": [
    "## F string method"
   ]
  },
  {
   "cell_type": "code",
   "execution_count": 69,
   "id": "a3c2f1f2-a9ee-40bf-93f1-7c93c3fdb7c6",
   "metadata": {},
   "outputs": [
    {
     "name": "stdout",
     "output_type": "stream",
     "text": [
      "my name is{},im {} years old and i came from {}\n",
      "my name is{name},im {age} years old and i came from {city}\n",
      "my name is chandu,im 21 years old and i came from addanki\n"
     ]
    }
   ],
   "source": [
    "name='chandu'\n",
    "age=21\n",
    "city='addanki'\n",
    "print(\"my name is{},im {} years old and i came from {}\")\n",
    "print(\"my name is{name},im {age} years old and i came from {city}\")\n",
    "print(f\"my name is {name},im {age} years old and i came from {city}\")"
   ]
  },
  {
   "cell_type": "code",
   "execution_count": 71,
   "id": "50f584f9-5642-4b7b-9043-3c5450dee592",
   "metadata": {},
   "outputs": [
    {
     "name": "stdout",
     "output_type": "stream",
     "text": [
      "the addition of 10 ,20 is 30\n",
      "the multiplication of 10,20 is200\n",
      "the division of 10 ,20 is10\n",
      "the sub of10,20 is-10\n"
     ]
    }
   ],
   "source": [
    "a=10\n",
    "b=20\n",
    "c=a+b\n",
    "print(f\"the addition of {a} ,{b} is {c}\")\n",
    "c=a*b\n",
    "print(f\"the multiplication of {a},{b} is{c}\")\n",
    "c=a%b\n",
    "print(f\"the division of {a} ,{b} is{c}\")\n",
    "c=a-b\n",
    "print(f\"the sub of{a},{b} is{c}\") "
   ]
  },
  {
   "cell_type": "code",
   "execution_count": 77,
   "id": "9cd38d09-cb1a-46db-b871-ef3c12cf4793",
   "metadata": {},
   "outputs": [
    {
     "name": "stdout",
     "output_type": "stream",
     "text": [
      "the addtion  of 100 ,200 is 300\n",
      "the substration  of 100 ,200 is -100\n",
      "the multipilication  of 100 ,200 is 20000\n"
     ]
    }
   ],
   "source": [
    "n1=100\n",
    "n2=200\n",
    "add=n1+n2\n",
    "sub=n1-n2\n",
    "mul=n1*n2\n",
    "print(f\"the addtion  of {n1} ,{n2} is {add}\")\n",
    "print(f\"the substration  of {n1} ,{n2} is {sub}\")\n",
    "print(f\"the multipilication  of {n1} ,{n2} is {mul}\")\n"
   ]
  },
  {
   "cell_type": "markdown",
   "id": "dcee3cd3-1c6e-4113-934c-00c4285a0e55",
   "metadata": {},
   "source": [
    "### End"
   ]
  },
  {
   "cell_type": "code",
   "execution_count": 81,
   "id": "093213b7-eac8-4181-8e55-c1113862c726",
   "metadata": {},
   "outputs": [
    {
     "name": "stdout",
     "output_type": "stream",
     "text": [
      "10\n",
      "20\n"
     ]
    }
   ],
   "source": [
    "print(10)\n",
    "print(20)"
   ]
  },
  {
   "cell_type": "code",
   "execution_count": 85,
   "id": "8186d222-488f-4a68-a0a4-dcaef866c302",
   "metadata": {},
   "outputs": [
    {
     "name": "stdout",
     "output_type": "stream",
     "text": [
      "10 ---->  20\n"
     ]
    }
   ],
   "source": [
    "print(10,end=' ---->  ')\n",
    "print(20)"
   ]
  },
  {
   "cell_type": "code",
   "execution_count": 89,
   "id": "3c3e01f1-7fc7-4b40-b96e-217ebaeb50fc",
   "metadata": {},
   "outputs": [
    {
     "name": "stdout",
     "output_type": "stream",
     "text": [
      "10 20 30\n"
     ]
    }
   ],
   "source": [
    "print(10,end=' ')\n",
    "print(20,end=' ')\n",
    "print(30)"
   ]
  },
  {
   "cell_type": "markdown",
   "id": "6237dbcb-fd62-41de-b8e2-ea44f6084b27",
   "metadata": {},
   "source": [
    " \n",
    " **Separator method**"
   ]
  },
  {
   "cell_type": "code",
   "execution_count": 98,
   "id": "6738de2a-8bac-43d0-8766-61c8abc5de99",
   "metadata": {},
   "outputs": [
    {
     "name": "stdout",
     "output_type": "stream",
     "text": [
      "10  20  30\n"
     ]
    }
   ],
   "source": [
    "#seperating the all values inside print statements\n",
    "print(10,20,30,sep='  ')"
   ]
  },
  {
   "cell_type": "code",
   "execution_count": 100,
   "id": "5389f1d5-6823-478f-98d7-a3560586a442",
   "metadata": {},
   "outputs": [
    {
     "name": "stdout",
     "output_type": "stream",
     "text": [
      "10 * 20 + 30\n"
     ]
    }
   ],
   "source": [
    "print(10,end=' * ')\n",
    "print(20,30,sep=' + ')"
   ]
  },
  {
   "cell_type": "code",
   "execution_count": 104,
   "id": "8f57e416-7465-4762-9278-a2b14c3e0647",
   "metadata": {},
   "outputs": [
    {
     "name": "stdout",
     "output_type": "stream",
     "text": [
      "10+20=30\n"
     ]
    }
   ],
   "source": [
    "print(10,end='+')\n",
    "print(20,end='=')\n",
    "print(30,sep='..')"
   ]
  },
  {
   "cell_type": "code",
   "execution_count": 107,
   "id": "85cc7cc6-88c4-48bc-a1c1-5c55887fc489",
   "metadata": {},
   "outputs": [
    {
     "name": "stdout",
     "output_type": "stream",
     "text": [
      "10+20=30."
     ]
    }
   ],
   "source": [
    "print(10,20,sep='+',end='=')\n",
    "print(30,end='.')"
   ]
  },
  {
   "cell_type": "markdown",
   "id": "4cf8b22e-441e-41e4-8eed-c0c84f7cd0bb",
   "metadata": {},
   "source": [
    "- format method\n",
    "- f string method\n",
    "- separator method\n",
    "- end method\n"
   ]
  },
  {
   "cell_type": "code",
   "execution_count": null,
   "id": "b975451d-cb50-4b03-87b1-9af410d00f5a",
   "metadata": {},
   "outputs": [],
   "source": []
  }
 ],
 "metadata": {
  "kernelspec": {
   "display_name": "Python 3 (ipykernel)",
   "language": "python",
   "name": "python3"
  },
  "language_info": {
   "codemirror_mode": {
    "name": "ipython",
    "version": 3
   },
   "file_extension": ".py",
   "mimetype": "text/x-python",
   "name": "python",
   "nbconvert_exporter": "python",
   "pygments_lexer": "ipython3",
   "version": "3.12.4"
  }
 },
 "nbformat": 4,
 "nbformat_minor": 5
}
