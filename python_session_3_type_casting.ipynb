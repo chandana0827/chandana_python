{
 "cells": [
  {
   "cell_type": "markdown",
   "id": "a72a8f57-b6ea-4df9-bc50-cba2ba1e9cd4",
   "metadata": {},
   "source": [
    "**integer to other data types**"
   ]
  },
  {
   "cell_type": "code",
   "execution_count": 2,
   "id": "ab67f11d-3a20-4154-90bf-7223828e7f43",
   "metadata": {},
   "outputs": [
    {
     "data": {
      "text/plain": [
       "int"
      ]
     },
     "execution_count": 2,
     "metadata": {},
     "output_type": "execute_result"
    }
   ],
   "source": [
    "num1=100\n",
    "type(num1)"
   ]
  },
  {
   "cell_type": "code",
   "execution_count": 6,
   "id": "27c22c00-a551-4cdc-b5b7-bfcccde0107e",
   "metadata": {},
   "outputs": [
    {
     "data": {
      "text/plain": [
       "100.0"
      ]
     },
     "execution_count": 6,
     "metadata": {},
     "output_type": "execute_result"
    }
   ],
   "source": [
    "num_float=float(num1)\n",
    "num_float"
   ]
  },
  {
   "cell_type": "code",
   "execution_count": 8,
   "id": "ccea31ce-5756-4ade-b724-a3cdccbc51d5",
   "metadata": {},
   "outputs": [
    {
     "data": {
      "text/plain": [
       "float"
      ]
     },
     "execution_count": 8,
     "metadata": {},
     "output_type": "execute_result"
    }
   ],
   "source": [
    "type(num_float)"
   ]
  },
  {
   "cell_type": "markdown",
   "id": "bca8f9ec-96a0-44eb-a3f4-f1d1f9449191",
   "metadata": {},
   "source": [
    "- num1 is a variable store value 100\n",
    "- num1 is a integer type\n",
    "- to convert float , float(num1)\n",
    "- float(num1) gives 100.0\n",
    "- so float(num1) stored in a variable :num_float\n",
    "- num_float is float type"
   ]
  },
  {
   "cell_type": "code",
   "execution_count": 13,
   "id": "278a0f9d-0550-46ed-8d93-dd590564ccfb",
   "metadata": {},
   "outputs": [
    {
     "ename": "NameError",
     "evalue": "name 'naresh' is not defined",
     "output_type": "error",
     "traceback": [
      "\u001b[1;31m---------------------------------------------------------------------------\u001b[0m",
      "\u001b[1;31mNameError\u001b[0m                                 Traceback (most recent call last)",
      "Cell \u001b[1;32mIn[13], line 1\u001b[0m\n\u001b[1;32m----> 1\u001b[0m naresh\n",
      "\u001b[1;31mNameError\u001b[0m: name 'naresh' is not defined"
     ]
    }
   ],
   "source": [
    "naresh"
   ]
  },
  {
   "cell_type": "markdown",
   "id": "9eea1b2c-8d06-4f24-aded-f9e3dc368b27",
   "metadata": {},
   "source": [
    "**Name Error**"
   ]
  },
  {
   "cell_type": "markdown",
   "id": "038ee1ea-129e-47dc-979d-3ce44ecf93a1",
   "metadata": {},
   "source": [
    "- when ever if we see name erroor means that corresponding variable not  intialization\n",
    "- for example in the above naresh is a variable\n",
    "- is not defined before,thats why we are getting error\n",
    "- so go above the lines and search for variable:naresh\n",
    "- if you fell that is already defined then run again  \n"
   ]
  },
  {
   "cell_type": "code",
   "execution_count": 22,
   "id": "fae8449d-0895-4fdb-8b9c-2c47e00edcea",
   "metadata": {},
   "outputs": [
    {
     "data": {
      "text/plain": [
       "'100'"
      ]
     },
     "execution_count": 22,
     "metadata": {},
     "output_type": "execute_result"
    }
   ],
   "source": [
    "#integer to string converstion \n",
    "num1=100\n",
    "num_string=str(num1)\n",
    "num_string"
   ]
  },
  {
   "cell_type": "code",
   "execution_count": 24,
   "id": "51433c3f-a664-47ee-90be-9e89b617cbd6",
   "metadata": {},
   "outputs": [
    {
     "data": {
      "text/plain": [
       "100"
      ]
     },
     "execution_count": 24,
     "metadata": {},
     "output_type": "execute_result"
    }
   ],
   "source": [
    "num1=100\n",
    "num_string=(num1)\n",
    "num_string"
   ]
  },
  {
   "cell_type": "code",
   "execution_count": 26,
   "id": "bf34db86-90d3-4777-80dc-4366e85c40c3",
   "metadata": {},
   "outputs": [
    {
     "data": {
      "text/plain": [
       "int"
      ]
     },
     "execution_count": 26,
     "metadata": {},
     "output_type": "execute_result"
    }
   ],
   "source": [
    "type(num_string)"
   ]
  },
  {
   "cell_type": "code",
   "execution_count": 30,
   "id": "2ecac4e1-032d-4441-949a-0afac129f650",
   "metadata": {},
   "outputs": [
    {
     "data": {
      "text/plain": [
       "True"
      ]
     },
     "execution_count": 30,
     "metadata": {},
     "output_type": "execute_result"
    }
   ],
   "source": [
    "#integr to boolen converstion\n",
    "num1=100\n",
    "num_boolen=bool(num1)\n",
    "num_boolen"
   ]
  },
  {
   "cell_type": "code",
   "execution_count": 34,
   "id": "feae27c3-a238-4f0d-86b2-4ebe472dfa39",
   "metadata": {},
   "outputs": [
    {
     "data": {
      "text/plain": [
       "bool"
      ]
     },
     "execution_count": 34,
     "metadata": {},
     "output_type": "execute_result"
    }
   ],
   "source": [
    "type(num_boolen)"
   ]
  },
  {
   "cell_type": "code",
   "execution_count": 38,
   "id": "8513b603-ef40-4e10-ba12-aae51c1b0c92",
   "metadata": {},
   "outputs": [
    {
     "data": {
      "text/plain": [
       "True"
      ]
     },
     "execution_count": 38,
     "metadata": {},
     "output_type": "execute_result"
    }
   ],
   "source": [
    "num2=-100\n",
    "num2_boolen=bool(num2)\n",
    "num2_boolen"
   ]
  },
  {
   "cell_type": "code",
   "execution_count": 40,
   "id": "a8c257e2-5d9d-4cb1-828f-9957583637ee",
   "metadata": {},
   "outputs": [
    {
     "data": {
      "text/plain": [
       "False"
      ]
     },
     "execution_count": 40,
     "metadata": {},
     "output_type": "execute_result"
    }
   ],
   "source": [
    "num3=0\n",
    "num3_bool=bool(num3)\n",
    "num3_bool"
   ]
  },
  {
   "cell_type": "markdown",
   "id": "a4effd6a-e4cb-45f9-baca-28f39b2791e8",
   "metadata": {},
   "source": [
    "**NOTE**"
   ]
  },
  {
   "cell_type": "markdown",
   "id": "abd90ff9-7350-4ee6-a597-f1ad2171ab25",
   "metadata": {},
   "source": [
    "- when boolen conversion of integer gives false  \n",
    "        - For O value,it gives false  "
   ]
  },
  {
   "cell_type": "code",
   "execution_count": 58,
   "id": "f04323cb-5ead-4b9e-9fa3-7901f2d327e4",
   "metadata": {},
   "outputs": [
    {
     "data": {
      "text/plain": [
       "(100.0, True, '100')"
      ]
     },
     "execution_count": 58,
     "metadata": {},
     "output_type": "execute_result"
    }
   ],
   "source": [
    "num1=100\n",
    "num1_float=float(num1)\n",
    "num1_bool=bool(num1)\n",
    "num1_str=str(num1)\n",
    "num1_float,num1_bool,num1_str"
   ]
  },
  {
   "cell_type": "code",
   "execution_count": 60,
   "id": "8cf7a3f9-3170-488c-b602-54eb6a3253e1",
   "metadata": {},
   "outputs": [
    {
     "data": {
      "text/plain": [
       "(1000.0, '1000')"
      ]
     },
     "execution_count": 60,
     "metadata": {},
     "output_type": "execute_result"
    }
   ],
   "source": [
    "float(1000),str(1000)"
   ]
  },
  {
   "cell_type": "markdown",
   "id": "81c6cb7b-557f-457f-86c8-8c4ae5a87cfa",
   "metadata": {},
   "source": [
    "**Float to other data types**"
   ]
  },
  {
   "cell_type": "code",
   "execution_count": 77,
   "id": "273e6675-490c-4e68-a364-98dcd22501a6",
   "metadata": {},
   "outputs": [
    {
     "data": {
      "text/plain": [
       "(100, '100', True)"
      ]
     },
     "execution_count": 77,
     "metadata": {},
     "output_type": "execute_result"
    }
   ],
   "source": [
    "num1=100\n",
    "num1_int=int(num1)\n",
    "num1_str=str(num1)\n",
    "num1_bool=bool(num1)\n",
    "num1_int,num1_str,num1_bool"
   ]
  },
  {
   "cell_type": "code",
   "execution_count": 79,
   "id": "51edb0b2-b127-468c-a2e4-7be69c1167bf",
   "metadata": {},
   "outputs": [
    {
     "data": {
      "text/plain": [
       "(1000, '100', False)"
      ]
     },
     "execution_count": 79,
     "metadata": {},
     "output_type": "execute_result"
    }
   ],
   "source": [
    "int(1000),str(100),bool(0)"
   ]
  },
  {
   "cell_type": "code",
   "execution_count": 73,
   "id": "246402bd-bc2a-410a-a4b4-2eb9496afb64",
   "metadata": {},
   "outputs": [
    {
     "data": {
      "text/plain": [
       "(100.0, '10', True)"
      ]
     },
     "execution_count": 73,
     "metadata": {},
     "output_type": "execute_result"
    }
   ],
   "source": [
    "float(100),str(10),bool(10)"
   ]
  },
  {
   "cell_type": "code",
   "execution_count": 81,
   "id": "acccfe6c-88b3-49d2-987f-48782ab8607e",
   "metadata": {},
   "outputs": [
    {
     "data": {
      "text/plain": [
       "(0, '0.0', False)"
      ]
     },
     "execution_count": 81,
     "metadata": {},
     "output_type": "execute_result"
    }
   ],
   "source": [
    "int(0.0),str(0.0),bool(0.0)"
   ]
  },
  {
   "cell_type": "markdown",
   "id": "edb1f471-cefa-479f-8f3a-df087e18239d",
   "metadata": {},
   "source": [
    "**string to other data types**"
   ]
  },
  {
   "cell_type": "code",
   "execution_count": 96,
   "id": "75b19e82-958f-473a-9ba8-22116b1ad21c",
   "metadata": {},
   "outputs": [
    {
     "ename": "ValueError",
     "evalue": "invalid literal for int() with base 10: 'apple'",
     "output_type": "error",
     "traceback": [
      "\u001b[1;31m---------------------------------------------------------------------------\u001b[0m",
      "\u001b[1;31mValueError\u001b[0m                                Traceback (most recent call last)",
      "Cell \u001b[1;32mIn[96], line 3\u001b[0m\n\u001b[0;32m      1\u001b[0m \u001b[38;5;66;03m#case 1\u001b[39;00m\n\u001b[0;32m      2\u001b[0m \u001b[38;5;28mstr\u001b[39m\u001b[38;5;241m=\u001b[39m\u001b[38;5;124m'\u001b[39m\u001b[38;5;124mapple\u001b[39m\u001b[38;5;124m'\u001b[39m\n\u001b[1;32m----> 3\u001b[0m \u001b[38;5;28mint\u001b[39m(\u001b[38;5;124m'\u001b[39m\u001b[38;5;124mapple\u001b[39m\u001b[38;5;124m'\u001b[39m)\n\u001b[0;32m      4\u001b[0m \u001b[38;5;28mfloat\u001b[39m(\u001b[38;5;124m'\u001b[39m\u001b[38;5;124mapple\u001b[39m\u001b[38;5;124m'\u001b[39m)\n\u001b[0;32m      5\u001b[0m \u001b[38;5;28mbool\u001b[39m(\u001b[38;5;124m'\u001b[39m\u001b[38;5;124mapple\u001b[39m\u001b[38;5;124m'\u001b[39m)\n",
      "\u001b[1;31mValueError\u001b[0m: invalid literal for int() with base 10: 'apple'"
     ]
    }
   ],
   "source": [
    "#case 1\n",
    "str='apple'\n",
    "int('apple')\n",
    "float('apple')\n",
    "bool('apple') "
   ]
  },
  {
   "cell_type": "code",
   "execution_count": 98,
   "id": "39be8542-44c2-4670-99ff-60e209ab5503",
   "metadata": {},
   "outputs": [
    {
     "ename": "ValueError",
     "evalue": "invalid literal for int() with base 10: 'apple123'",
     "output_type": "error",
     "traceback": [
      "\u001b[1;31m---------------------------------------------------------------------------\u001b[0m",
      "\u001b[1;31mValueError\u001b[0m                                Traceback (most recent call last)",
      "Cell \u001b[1;32mIn[98], line 3\u001b[0m\n\u001b[0;32m      1\u001b[0m \u001b[38;5;66;03m#case 2\u001b[39;00m\n\u001b[0;32m      2\u001b[0m \u001b[38;5;28mstr\u001b[39m\u001b[38;5;241m=\u001b[39m\u001b[38;5;124m'\u001b[39m\u001b[38;5;124mapple123\u001b[39m\u001b[38;5;124m'\u001b[39m\n\u001b[1;32m----> 3\u001b[0m \u001b[38;5;28mint\u001b[39m(\u001b[38;5;124m'\u001b[39m\u001b[38;5;124mapple123\u001b[39m\u001b[38;5;124m'\u001b[39m)\n\u001b[0;32m      4\u001b[0m \u001b[38;5;28mfloat\u001b[39m(\u001b[38;5;124m'\u001b[39m\u001b[38;5;124mapple123\u001b[39m\u001b[38;5;124m'\u001b[39m)\n\u001b[0;32m      5\u001b[0m \u001b[38;5;28mbool\u001b[39m(\u001b[38;5;124m'\u001b[39m\u001b[38;5;124mapple123\u001b[39m\u001b[38;5;124m'\u001b[39m)\n",
      "\u001b[1;31mValueError\u001b[0m: invalid literal for int() with base 10: 'apple123'"
     ]
    }
   ],
   "source": [
    "#case 2\n",
    "str='apple123'\n",
    "int('apple123')\n",
    "float('apple123')\n",
    "bool('apple123')"
   ]
  },
  {
   "cell_type": "code",
   "execution_count": 108,
   "id": "a4583d51-ffd3-45d2-ba87-201e876e7987",
   "metadata": {},
   "outputs": [
    {
     "data": {
      "text/plain": [
       "True"
      ]
     },
     "execution_count": 108,
     "metadata": {},
     "output_type": "execute_result"
    }
   ],
   "source": [
    "#case3\n",
    "str='0'\n",
    "int('0')\n",
    "float('0')\n",
    "bool('0')"
   ]
  },
  {
   "cell_type": "code",
   "execution_count": 114,
   "id": "918af558-c6b5-481a-8e27-463b0fd8f90f",
   "metadata": {
    "scrolled": true
   },
   "outputs": [
    {
     "ename": "ValueError",
     "evalue": "invalid literal for int() with base 10: ''",
     "output_type": "error",
     "traceback": [
      "\u001b[1;31m---------------------------------------------------------------------------\u001b[0m",
      "\u001b[1;31mValueError\u001b[0m                                Traceback (most recent call last)",
      "Cell \u001b[1;32mIn[114], line 3\u001b[0m\n\u001b[0;32m      1\u001b[0m \u001b[38;5;66;03m#case-4\u001b[39;00m\n\u001b[0;32m      2\u001b[0m \u001b[38;5;28mstr\u001b[39m\u001b[38;5;241m=\u001b[39m\u001b[38;5;124m'\u001b[39m\u001b[38;5;124m'\u001b[39m\n\u001b[1;32m----> 3\u001b[0m \u001b[38;5;28mint\u001b[39m(\u001b[38;5;124m'\u001b[39m\u001b[38;5;124m'\u001b[39m)\u001b[38;5;66;03m#0\u001b[39;00m\n\u001b[0;32m      4\u001b[0m \u001b[38;5;28mfloat\u001b[39m(\u001b[38;5;124m'\u001b[39m\u001b[38;5;124m'\u001b[39m)\u001b[38;5;66;03m#0.0\u001b[39;00m\n\u001b[0;32m      5\u001b[0m \u001b[38;5;28mbool\u001b[39m(\u001b[38;5;124m'\u001b[39m\u001b[38;5;124m'\u001b[39m)\n",
      "\u001b[1;31mValueError\u001b[0m: invalid literal for int() with base 10: ''"
     ]
    }
   ],
   "source": [
    "#case-4\n",
    "str=''\n",
    "int('')#0\n",
    "float('')#0.0\n",
    "bool('')#false"
   ]
  },
  {
   "cell_type": "code",
   "execution_count": 116,
   "id": "ac4283f9-98b2-46b9-a909-1c4d0ee4cd83",
   "metadata": {},
   "outputs": [
    {
     "data": {
      "text/plain": [
       "10"
      ]
     },
     "execution_count": 116,
     "metadata": {},
     "output_type": "execute_result"
    }
   ],
   "source": [
    "#case5\n",
    "str='10'\n",
    "int('10')\n"
   ]
  },
  {
   "cell_type": "code",
   "execution_count": 118,
   "id": "ca7aa579-e9b6-4e54-8233-f209345a9a55",
   "metadata": {},
   "outputs": [
    {
     "data": {
      "text/plain": [
       "10.0"
      ]
     },
     "execution_count": 118,
     "metadata": {},
     "output_type": "execute_result"
    }
   ],
   "source": [
    "float('10')"
   ]
  },
  {
   "cell_type": "code",
   "execution_count": 124,
   "id": "0c028148-4ccb-4ccf-8a5b-48db55b36f93",
   "metadata": {},
   "outputs": [
    {
     "ename": "ValueError",
     "evalue": "invalid literal for int() with base 10: '10.5'",
     "output_type": "error",
     "traceback": [
      "\u001b[1;31m---------------------------------------------------------------------------\u001b[0m",
      "\u001b[1;31mValueError\u001b[0m                                Traceback (most recent call last)",
      "Cell \u001b[1;32mIn[124], line 3\u001b[0m\n\u001b[0;32m      1\u001b[0m \u001b[38;5;66;03m# case 6\u001b[39;00m\n\u001b[0;32m      2\u001b[0m \u001b[38;5;28mstr\u001b[39m\u001b[38;5;241m=\u001b[39m\u001b[38;5;124m'\u001b[39m\u001b[38;5;124m10.5\u001b[39m\u001b[38;5;124m'\u001b[39m\n\u001b[1;32m----> 3\u001b[0m \u001b[38;5;28mint\u001b[39m(\u001b[38;5;124m'\u001b[39m\u001b[38;5;124m10.5\u001b[39m\u001b[38;5;124m'\u001b[39m)\n\u001b[0;32m      4\u001b[0m \u001b[38;5;28mfloat\u001b[39m(\u001b[38;5;124m'\u001b[39m\u001b[38;5;124m10.5\u001b[39m\u001b[38;5;124m'\u001b[39m)\n\u001b[0;32m      5\u001b[0m \u001b[38;5;28mbool\u001b[39m(\u001b[38;5;124m'\u001b[39m\u001b[38;5;124m10.5\u001b[39m\u001b[38;5;124m'\u001b[39m)\n",
      "\u001b[1;31mValueError\u001b[0m: invalid literal for int() with base 10: '10.5'"
     ]
    }
   ],
   "source": [
    "# case 6\n",
    "str='10.5'\n",
    "int('10.5')\n",
    "float('10.5')\n",
    "bool('10.5')"
   ]
  },
  {
   "cell_type": "code",
   "execution_count": 122,
   "id": "87c71781-a7fb-4c60-99d5-3c65a781e8d3",
   "metadata": {},
   "outputs": [
    {
     "data": {
      "text/plain": [
       "True"
      ]
     },
     "execution_count": 122,
     "metadata": {},
     "output_type": "execute_result"
    }
   ],
   "source": [
    "bool('10.5')"
   ]
  },
  {
   "cell_type": "code",
   "execution_count": 126,
   "id": "1d5f457c-82c9-43bb-93e2-31be9f24f5a8",
   "metadata": {},
   "outputs": [
    {
     "data": {
      "text/plain": [
       "10.5"
      ]
     },
     "execution_count": 126,
     "metadata": {},
     "output_type": "execute_result"
    }
   ],
   "source": [
    "float('10.5')"
   ]
  },
  {
   "cell_type": "code",
   "execution_count": 130,
   "id": "379c3c0d-f916-4111-a1c0-b2b98cb1ca16",
   "metadata": {},
   "outputs": [
    {
     "ename": "ValueError",
     "evalue": "invalid literal for int() with base 10: '10.5'",
     "output_type": "error",
     "traceback": [
      "\u001b[1;31m---------------------------------------------------------------------------\u001b[0m",
      "\u001b[1;31mValueError\u001b[0m                                Traceback (most recent call last)",
      "Cell \u001b[1;32mIn[130], line 1\u001b[0m\n\u001b[1;32m----> 1\u001b[0m \u001b[38;5;28mint\u001b[39m(\u001b[38;5;124m'\u001b[39m\u001b[38;5;124m10.5\u001b[39m\u001b[38;5;124m'\u001b[39m)\n",
      "\u001b[1;31mValueError\u001b[0m: invalid literal for int() with base 10: '10.5'"
     ]
    }
   ],
   "source": [
    "int('10.5')"
   ]
  },
  {
   "cell_type": "markdown",
   "id": "80fe4e87-7526-41f8-96c2-6b4b3e2b0d4e",
   "metadata": {},
   "source": [
    "- english letters as string representation \n",
    "   - apple \n",
    "      - integer conversion fail \n",
    "      - float converstion fail \n",
    "      - boolean converstion true  \n",
    "- english with some numbers as string  representation\n",
    "  - apple123\n",
    "     - integer conversion fail\n",
    "     - float conversion is fail\n",
    "     - boolean conversion true\n",
    "- empty  string as string representstion\n",
    "   - integer converstion fsil\n",
    "   - float converstion fail\n",
    "  - boolean conversion is false\n",
    "- 10 as string representation\n",
    "  -  integer conversion will give 10 "
   ]
  },
  {
   "cell_type": "markdown",
   "id": "18796067-8476-46cf-ad27-d67087947a7e",
   "metadata": {},
   "source": [
    "**float is the boss**\n",
    " float('10\")\n",
    " float('10.5') \n",
    " **integer will works only int family int('10')**\n",
    " int('10.5')\n",
    " int('10.5')#error \n",
    "- boolean converstion of empty string gives false\n",
    "- otherwise true "
   ]
  },
  {
   "cell_type": "code",
   "execution_count": 149,
   "id": "7c613c55-b226-43ef-9a6a-59e32909dfa4",
   "metadata": {},
   "outputs": [
    {
     "data": {
      "text/plain": [
       "(False, True)"
      ]
     },
     "execution_count": 149,
     "metadata": {},
     "output_type": "execute_result"
    }
   ],
   "source": [
    "bool(''),bool(' ')"
   ]
  },
  {
   "cell_type": "code",
   "execution_count": 151,
   "id": "ecce38d0-5999-4614-8df1-5bdc9ab91b1d",
   "metadata": {},
   "outputs": [
    {
     "data": {
      "text/plain": [
       "0"
      ]
     },
     "execution_count": 151,
     "metadata": {},
     "output_type": "execute_result"
    }
   ],
   "source": [
    "len('')"
   ]
  },
  {
   "cell_type": "code",
   "execution_count": 153,
   "id": "6f72c01e-b7ef-415b-b02d-3bc428ea7422",
   "metadata": {},
   "outputs": [
    {
     "data": {
      "text/plain": [
       "1"
      ]
     },
     "execution_count": 153,
     "metadata": {},
     "output_type": "execute_result"
    }
   ],
   "source": [
    "len(' ')"
   ]
  },
  {
   "cell_type": "code",
   "execution_count": null,
   "id": "0db49fc8-ffc8-4fa4-b4bd-7bdd1ca54750",
   "metadata": {},
   "outputs": [],
   "source": [
    "int(10.8)#number system it will works\n",
    "inr('10.5') # this will not work"
   ]
  },
  {
   "cell_type": "code",
   "execution_count": 160,
   "id": "6823a8c8-ff88-44ab-aacb-debd56950d9c",
   "metadata": {},
   "outputs": [
    {
     "data": {
      "text/plain": [
       "1"
      ]
     },
     "execution_count": 160,
     "metadata": {},
     "output_type": "execute_result"
    }
   ],
   "source": [
    "int(True)\n"
   ]
  },
  {
   "cell_type": "code",
   "execution_count": 162,
   "id": "46b378c4-6073-4716-b129-7aa2b23cdf9e",
   "metadata": {},
   "outputs": [
    {
     "data": {
      "text/plain": [
       "1.0"
      ]
     },
     "execution_count": 162,
     "metadata": {},
     "output_type": "execute_result"
    }
   ],
   "source": [
    "float(True)"
   ]
  },
  {
   "cell_type": "code",
   "execution_count": 164,
   "id": "a565ba37-e7d3-4963-a335-764b37511389",
   "metadata": {},
   "outputs": [
    {
     "ename": "TypeError",
     "evalue": "'str' object is not callable",
     "output_type": "error",
     "traceback": [
      "\u001b[1;31m---------------------------------------------------------------------------\u001b[0m",
      "\u001b[1;31mTypeError\u001b[0m                                 Traceback (most recent call last)",
      "Cell \u001b[1;32mIn[164], line 1\u001b[0m\n\u001b[1;32m----> 1\u001b[0m \u001b[38;5;28mstr\u001b[39m(\u001b[38;5;28;01mTrue\u001b[39;00m)\n",
      "\u001b[1;31mTypeError\u001b[0m: 'str' object is not callable"
     ]
    }
   ],
   "source": [
    "str(True)#True"
   ]
  },
  {
   "cell_type": "code",
   "execution_count": 166,
   "id": "6c4dd08a-c909-4091-84f8-84362dee0672",
   "metadata": {},
   "outputs": [
    {
     "data": {
      "text/plain": [
       "0"
      ]
     },
     "execution_count": 166,
     "metadata": {},
     "output_type": "execute_result"
    }
   ],
   "source": [
    "int(False)"
   ]
  },
  {
   "cell_type": "code",
   "execution_count": 168,
   "id": "8ac76bab-9bee-4e62-beda-80084cb1d005",
   "metadata": {},
   "outputs": [
    {
     "data": {
      "text/plain": [
       "0.0"
      ]
     },
     "execution_count": 168,
     "metadata": {},
     "output_type": "execute_result"
    }
   ],
   "source": [
    "float(False)"
   ]
  },
  {
   "cell_type": "code",
   "execution_count": 170,
   "id": "b3dffd4a-d6eb-459e-a2b6-589467a72e68",
   "metadata": {},
   "outputs": [
    {
     "ename": "TypeError",
     "evalue": "'str' object is not callable",
     "output_type": "error",
     "traceback": [
      "\u001b[1;31m---------------------------------------------------------------------------\u001b[0m",
      "\u001b[1;31mTypeError\u001b[0m                                 Traceback (most recent call last)",
      "Cell \u001b[1;32mIn[170], line 1\u001b[0m\n\u001b[1;32m----> 1\u001b[0m \u001b[38;5;28mstr\u001b[39m(\u001b[38;5;28;01mFalse\u001b[39;00m)\n",
      "\u001b[1;31mTypeError\u001b[0m: 'str' object is not callable"
     ]
    }
   ],
   "source": [
    "str(False)#'false'"
   ]
  },
  {
   "cell_type": "code",
   "execution_count": null,
   "id": "75b43397-b448-42d7-b4f8-429bf03d3b62",
   "metadata": {},
   "outputs": [],
   "source": []
  }
 ],
 "metadata": {
  "kernelspec": {
   "display_name": "Python 3 (ipykernel)",
   "language": "python",
   "name": "python3"
  },
  "language_info": {
   "codemirror_mode": {
    "name": "ipython",
    "version": 3
   },
   "file_extension": ".py",
   "mimetype": "text/x-python",
   "name": "python",
   "nbconvert_exporter": "python",
   "pygments_lexer": "ipython3",
   "version": "3.12.4"
  }
 },
 "nbformat": 4,
 "nbformat_minor": 5
}
